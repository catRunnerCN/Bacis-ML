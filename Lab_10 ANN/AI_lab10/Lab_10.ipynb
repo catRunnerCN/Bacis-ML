{
 "cells": [
  {
   "cell_type": "code",
   "id": "initial_id",
   "metadata": {
    "collapsed": true,
    "ExecuteTime": {
     "end_time": "2025-04-19T16:29:57.724706Z",
     "start_time": "2025-04-19T16:29:57.716708Z"
    }
   },
   "source": [
    "import torch\n",
    "import torch.nn as nn\n",
    "import torch.optim as optim\n",
    "from torchvision import datasets,transforms\n",
    "from torch.utils.data import DataLoader"
   ],
   "outputs": [],
   "execution_count": 75
  },
  {
   "metadata": {},
   "cell_type": "markdown",
   "source": "参数",
   "id": "4850cf4be40d41e5"
  },
  {
   "metadata": {},
   "cell_type": "markdown",
   "source": "准备数据集",
   "id": "25e7000e46b4099f"
  },
  {
   "metadata": {
    "ExecuteTime": {
     "end_time": "2025-04-19T16:29:57.740256Z",
     "start_time": "2025-04-19T16:29:57.729712Z"
    }
   },
   "cell_type": "code",
   "source": [
    "    input_size = 784\n",
    "    # 28x28 flattened pixels\n",
    "    # hidden_size = 256\n",
    "    # hidden_size = 128\n",
    "    hidden_size = 512\n",
    "    # Neurons in hidden layer\n",
    "    num_classes =10\n",
    "    # 10 clothing categories\n",
    "    num_epochs =20\n",
    "    # Training cycles\n",
    "    batch_size =64\n",
    "    # Samples per batch"
   ],
   "id": "13fda841d0442eab",
   "outputs": [],
   "execution_count": 76
  },
  {
   "metadata": {
    "ExecuteTime": {
     "end_time": "2025-04-19T16:29:57.912307Z",
     "start_time": "2025-04-19T16:29:57.867032Z"
    }
   },
   "cell_type": "code",
   "source": [
    "transform = transforms.Compose([\n",
    "    transforms.ToTensor(),\n",
    "    transforms.Normalize((0.5,),(0.5,))\n",
    "    ])\n",
    "train_dataset = datasets.FashionMNIST(\n",
    "    root='./data',\n",
    "    train=True,download=True,transform=transform\n",
    ")\n",
    "test_dataset = datasets.FashionMNIST(\n",
    "    root='./data',\n",
    "    train=False,transform=transform\n",
    ")\n",
    "train_loader = DataLoader(train_dataset, batch_size=batch_size, shuffle=True)\n",
    "test_loader = DataLoader(test_dataset, batch_size=batch_size, shuffle=False)"
   ],
   "id": "d222ad9e0c42ef10",
   "outputs": [],
   "execution_count": 77
  },
  {
   "metadata": {
    "ExecuteTime": {
     "end_time": "2025-04-19T16:33:49.296246Z",
     "start_time": "2025-04-19T16:33:49.268245Z"
    }
   },
   "cell_type": "code",
   "source": [
    "# class NeuralNet(nn.Module):\n",
    "#     learning_rate =0.001\n",
    "#     def __init__(self, input_size, hidden_size, num_classes):\n",
    "#         super(NeuralNet, self).__init__()\n",
    "#         self.fc1 = nn.Linear(input_size, hidden_size)\n",
    "#         # self.relu = nn.ReLU()\n",
    "#         # self.relu = nn.Sigmoid()\n",
    "#         self.relu = nn.LeakyReLU()\n",
    "#         self.fc2 = nn.Linear(hidden_size, num_classes)\n",
    "#\n",
    "#     def forward(self, out):\n",
    "#         out = out.view(-1, 28*28)\n",
    "#         out = self.fc1(out)\n",
    "#         out = self.relu(out)\n",
    "#         out = self.fc2(out)\n",
    "#         return out\n",
    "# device = torch.device('cuda' if torch.cuda.is_available() else 'cpu')\n",
    "# # 初始化模型、损失函数和优化器\n",
    "# model = NeuralNet(input_size, hidden_size, num_classes).to(device)\n",
    "# criterion = nn.CrossEntropyLoss()                       # 损失函数\n",
    "# learning_rate =0.001\n",
    "# # optimizer = optim.Adam(model.parameters(), lr=learning_rate)  # 优化器\n",
    "# optimizer = optim.SGD(model.parameters(), lr=learning_rate)  # 优化器\n",
    "\n",
    "import torch.nn.functional as F\n",
    "\n",
    "class NeuralNet(nn.Module):\n",
    "    learning_rate = 0.001\n",
    "    def __init__(self, input_size, hidden_size, num_classes):\n",
    "        super(NeuralNet, self).__init__()\n",
    "        self.fc1 = nn.Linear(input_size, hidden_size)\n",
    "        self.bn1 = nn.BatchNorm1d(hidden_size)\n",
    "        self.fc2 = nn.Linear(hidden_size, hidden_size // 2)\n",
    "        self.bn2 = nn.BatchNorm1d(hidden_size // 2)\n",
    "        self.fc3 = nn.Linear(hidden_size // 2, num_classes)\n",
    "        self.relu = nn.LeakyReLU()\n",
    "        self.dropout = nn.Dropout(p=0.3)\n",
    "\n",
    "    def forward(self, out):\n",
    "        out = out.view(-1, 28*28)\n",
    "        out = self.fc1(out)\n",
    "        out = self.bn1(out)\n",
    "        out = self.relu(out)\n",
    "        out = self.dropout(out)\n",
    "\n",
    "        out = self.fc2(out)\n",
    "        out = self.bn2(out)\n",
    "        out = self.relu(out)\n",
    "        out = self.dropout(out)\n",
    "\n",
    "        out = self.fc3(out)\n",
    "        return out\n",
    "\n",
    "# 初始化模型、损失函数和优化器\n",
    "model = NeuralNet(input_size, hidden_size, num_classes).to(device)\n",
    "criterion = nn.CrossEntropyLoss()\n",
    "\n",
    "# 优化器建议尝试 Adam 和 SGD+Momentum 都试一遍：\n",
    "optimizer = torch.optim.Adam(model.parameters(), lr=0.001)\n",
    "# 或者：optimizer = torch.optim.SGD(model.parameters(), lr=0.01, momentum=0.9)\n",
    "print(model)\n",
    "\n"
   ],
   "id": "15deba6bef217dbc",
   "outputs": [
    {
     "name": "stdout",
     "output_type": "stream",
     "text": [
      "NeuralNet(\n",
      "  (fc1): Linear(in_features=784, out_features=512, bias=True)\n",
      "  (bn1): BatchNorm1d(512, eps=1e-05, momentum=0.1, affine=True, track_running_stats=True)\n",
      "  (fc2): Linear(in_features=512, out_features=256, bias=True)\n",
      "  (bn2): BatchNorm1d(256, eps=1e-05, momentum=0.1, affine=True, track_running_stats=True)\n",
      "  (fc3): Linear(in_features=256, out_features=10, bias=True)\n",
      "  (relu): LeakyReLU(negative_slope=0.01)\n",
      "  (dropout): Dropout(p=0.3, inplace=False)\n",
      ")\n"
     ]
    }
   ],
   "execution_count": 83
  },
  {
   "metadata": {
    "ExecuteTime": {
     "end_time": "2025-04-19T16:31:54.999008Z",
     "start_time": "2025-04-19T16:29:58.224306Z"
    }
   },
   "cell_type": "code",
   "source": [
    "import torch\n",
    "import torch.nn as nn\n",
    "import torch.optim as optim\n",
    "import matplotlib.pyplot as plt\n",
    "\n",
    "# 假设你已经定义好了：\n",
    "# - model\n",
    "# - train_loader, test_loader\n",
    "# - criterion（如 CrossEntropyLoss）\n",
    "# - device（如 cuda or cpu）\n",
    "\n",
    "# 记录损失\n",
    "train_losses = []\n",
    "val_losses = []\n",
    "\n",
    "num_epochs = 10  # 或者 20，用于测试是否过拟合\n",
    "\n",
    "for epoch in range(num_epochs):\n",
    "    model.train()\n",
    "    running_loss = 0.0\n",
    "\n",
    "    for images, labels in train_loader:\n",
    "        images, labels = images.to(device), labels.to(device)\n",
    "\n",
    "        # Forward\n",
    "        outputs = model(images)\n",
    "        loss = criterion(outputs, labels)\n",
    "\n",
    "        # Backward\n",
    "        optimizer.zero_grad()\n",
    "        loss.backward()\n",
    "        optimizer.step()\n",
    "\n",
    "        running_loss += loss.item()\n",
    "\n",
    "    avg_train_loss = running_loss / len(train_loader)\n",
    "    train_losses.append(avg_train_loss)\n",
    "\n",
    "    # 验证集上的损失\n",
    "    model.eval()\n",
    "    val_loss = 0.0\n",
    "    with torch.no_grad():\n",
    "        for val_images, val_labels in test_loader:\n",
    "            val_images, val_labels = val_images.to(device), val_labels.to(device)\n",
    "            val_outputs = model(val_images)\n",
    "            val_loss += criterion(val_outputs, val_labels).item()\n",
    "\n",
    "    avg_val_loss = val_loss / len(test_loader)\n",
    "    val_losses.append(avg_val_loss)\n",
    "\n",
    "    print(f\"Epoch [{epoch + 1}/{num_epochs}], \"\n",
    "          f\"Train Loss: {avg_train_loss:.4f}, \"\n",
    "          f\"Val Loss: {avg_val_loss:.4f}\")\n",
    "\n",
    "    import time"
   ],
   "id": "1cd2ec9961484fa2",
   "outputs": [
    {
     "name": "stdout",
     "output_type": "stream",
     "text": [
      "Epoch [1/10], Train Loss: 0.4853, Val Loss: 0.3951\n",
      "Epoch [2/10], Train Loss: 0.3825, Val Loss: 0.3523\n",
      "Epoch [3/10], Train Loss: 0.3465, Val Loss: 0.3452\n",
      "Epoch [4/10], Train Loss: 0.3278, Val Loss: 0.3324\n",
      "Epoch [5/10], Train Loss: 0.3096, Val Loss: 0.3209\n",
      "Epoch [6/10], Train Loss: 0.2947, Val Loss: 0.3285\n",
      "Epoch [7/10], Train Loss: 0.2847, Val Loss: 0.3098\n",
      "Epoch [8/10], Train Loss: 0.2719, Val Loss: 0.3187\n",
      "Epoch [9/10], Train Loss: 0.2644, Val Loss: 0.3113\n",
      "Epoch [10/10], Train Loss: 0.2549, Val Loss: 0.3018\n"
     ]
    }
   ],
   "execution_count": 79
  },
  {
   "metadata": {
    "ExecuteTime": {
     "end_time": "2025-04-19T16:31:55.492521Z",
     "start_time": "2025-04-19T16:31:55.370487Z"
    }
   },
   "cell_type": "code",
   "source": [
    "plt.figure(figsize=(8, 5))\n",
    "plt.plot(range(1, num_epochs + 1), train_losses, label='Train Loss')\n",
    "plt.plot(range(1, num_epochs + 1), val_losses, label='Validation Loss')\n",
    "plt.xlabel('Epoch')\n",
    "plt.ylabel('Loss')\n",
    "plt.title('SGD:Training vs Validation Loss')\n",
    "plt.legend()\n",
    "plt.grid(True)\n",
    "plt.tight_layout()\n",
    "plt.show()\n"
   ],
   "id": "8ecd529843a3c20d",
   "outputs": [
    {
     "data": {
      "text/plain": [
       "<Figure size 800x500 with 1 Axes>"
      ],
      "image/png": "[encoded data removed]"
     },
     "metadata": {},
     "output_type": "display_data"
    }
   ],
   "execution_count": 80
  },
  {
   "metadata": {
    "ExecuteTime": {
     "end_time": "2025-04-19T16:31:56.923425Z",
     "start_time": "2025-04-19T16:31:55.506523Z"
    }
   },
   "cell_type": "code",
   "source": [
    "# 设置模型为评估模式\n",
    "model.eval()\n",
    "\n",
    "# 禁用梯度计算\n",
    "with torch.no_grad():\n",
    "    correct = 0\n",
    "    total = 0\n",
    "    for images, labels in test_loader:\n",
    "        images = images.to(device)\n",
    "        labels = labels.to(device)\n",
    "\n",
    "        outputs = model(images)\n",
    "        _, predicted = torch.max(outputs.data, 1)  # 获取最大概率对应的类别\n",
    "        total += labels.size(0)\n",
    "        correct += (predicted == labels).sum().item()\n",
    "\n",
    "    print(f'Test Accuracy: {100 * correct / total:.2f}%')\n"
   ],
   "id": "876ee71965654d72",
   "outputs": [
    {
     "name": "stdout",
     "output_type": "stream",
     "text": [
      "Test Accuracy: 89.55%\n"
     ]
    }
   ],
   "execution_count": 81
  },
  {
   "metadata": {
    "ExecuteTime": {
     "end_time": "2025-04-19T16:38:35.894477Z",
     "start_time": "2025-04-19T16:38:35.838905Z"
    }
   },
   "cell_type": "code",
   "source": [
    "import matplotlib.pyplot as plt\n",
    "import numpy as np\n",
    "\n",
    "# 定义 FashionMNIST 的类别名称\n",
    "class_names = ['T-shirt/top', 'Trouser', 'Pullover', 'Dress', 'Coat',\n",
    "               'Sandal', 'Shirt', 'Sneaker', 'Bag', 'Ankle boot']\n",
    "\n",
    "# 设置模型为评估模式\n",
    "model.eval()\n",
    "\n",
    "# 随机选择一个测试样本\n",
    "random_index = np.random.randint(0, len(test_dataset))\n",
    "sample_image, sample_label = test_dataset[random_index]\n",
    "\n",
    "# 添加 batch 维度并移动到 device\n",
    "image_tensor = sample_image.unsqueeze(0).to(device)\n",
    "\n",
    "# 预测\n",
    "with torch.no_grad():\n",
    "    output = model(image_tensor)\n",
    "    _, predicted = torch.max(output.data, 1)\n",
    "    predicted_class = predicted.cpu().item()\n",
    "\n",
    "# 转换为 numpy 格式并反归一化（假设原图归一化过）\n",
    "image_np = sample_image.numpy().squeeze()\n",
    "image_np = (image_np * 0.5) + 0.5  # 缩放回 [0,1] 区间以便可视化\n",
    "\n",
    "# 可视化图像和预测信息\n",
    "plt.figure(figsize=(6, 3))\n",
    "plt.imshow(image_np, cmap='gray')\n",
    "plt.title(f\"Predicted: {class_names[predicted_class]}\\nTrue: {class_names[sample_label]}\")\n",
    "plt.axis('off')\n",
    "\n",
    "# 显示预测置信度\n",
    "probabilities = torch.nn.functional.softmax(output, dim=1).cpu().numpy()[0]\n",
    "confidence = np.max(probabilities) * 100\n",
    "plt.show()\n",
    "\n",
    "# 输出详细信息\n",
    "print(\"\\nSample Details:\")\n",
    "print(f\"- Index: {random_index}\")\n",
    "print(f\"- True Label: {sample_label} ({class_names[sample_label]})\")\n",
    "print(f\"- Prediction: {predicted_class} ({class_names[predicted_class]})\")\n",
    "print(f\"- Confidence: {confidence:.2f}%\")\n"
   ],
   "id": "dcea8d89058e2dd3",
   "outputs": [
    {
     "data": {
      "text/plain": [
       "<Figure size 600x300 with 1 Axes>"
      ],
      "image/png": "[encoded data removed]"
     },
     "metadata": {},
     "output_type": "display_data"
    },
    {
     "name": "stdout",
     "output_type": "stream",
     "text": [
      "\n",
      "Sample Details:\n",
      "- Index: 746\n",
      "- True Label: 7 (Sneaker)\n",
      "- Prediction: 7 (Sneaker)\n",
      "- Confidence: 10.98%\n"
     ]
    }
   ],
   "execution_count": 89
  }
 ],
 "metadata": {
  "kernelspec": {
   "display_name": "Python 3",
   "language": "python",
   "name": "python3"
  },
  "language_info": {
   "codemirror_mode": {
    "name": "ipython",
    "version": 2
   },
   "file_extension": ".py",
   "mimetype": "text/x-python",
   "name": "python",
   "nbconvert_exporter": "python",
   "pygments_lexer": "ipython2",
   "version": "2.7.6"
  }
 },
 "nbformat": 4,
 "nbformat_minor": 5
}
